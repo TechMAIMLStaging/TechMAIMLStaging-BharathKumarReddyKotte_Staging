{
 "cells": [
  {
   "cell_type": "markdown",
   "id": "2ecb98ea-85dd-42bd-a228-52e1a4c914fa",
   "metadata": {},
   "source": [
    "# 1. Find the second largest element in a list (without using max() function)."
   ]
  },
  {
   "cell_type": "code",
   "execution_count": 2,
   "id": "903ce661-09c3-4e0c-856f-8b09d90f8055",
   "metadata": {},
   "outputs": [
    {
     "name": "stdin",
     "output_type": "stream",
     "text": [
      " 5 2 5 6 4 8 6\n"
     ]
    },
    {
     "name": "stdout",
     "output_type": "stream",
     "text": [
      "6\n"
     ]
    }
   ],
   "source": [
    "n=list(map(int,input().split()))\n",
    "n.sort()\n",
    "print(n[-2])"
   ]
  },
  {
   "cell_type": "markdown",
   "id": "277c4eed-e1ac-4abd-af25-b22703fa02ba",
   "metadata": {},
   "source": [
    "# 2.Check number is prime."
   ]
  },
  {
   "cell_type": "code",
   "execution_count": 27,
   "id": "42964567-e128-4ddd-9ade-515d94ca259d",
   "metadata": {},
   "outputs": [
    {
     "name": "stdin",
     "output_type": "stream",
     "text": [
      " 11\n"
     ]
    },
    {
     "name": "stdout",
     "output_type": "stream",
     "text": [
      "Prime\n"
     ]
    }
   ],
   "source": [
    "a=int(input())\n",
    "c=0\n",
    "for i in range(1,a+1):\n",
    "    if a%i==0:\n",
    "        c+=1\n",
    "if c==2:\n",
    "    print(\"Prime\")\n",
    "else:\n",
    "    print(\"Not Prime\")"
   ]
  },
  {
   "cell_type": "markdown",
   "id": "ddcda636-7d5f-4d76-9579-360cb5c88385",
   "metadata": {},
   "source": [
    "# 3. Reverse a string withount inbuilt functions"
   ]
  },
  {
   "cell_type": "code",
   "execution_count": 24,
   "id": "20e2830a-c642-4f1c-b11b-5f2f839063c7",
   "metadata": {},
   "outputs": [
    {
     "name": "stdin",
     "output_type": "stream",
     "text": [
      " abc\n"
     ]
    },
    {
     "name": "stdout",
     "output_type": "stream",
     "text": [
      "cba\n"
     ]
    }
   ],
   "source": [
    "s=list(input())\n",
    "n=len(s)\n",
    "res=\"\"\n",
    "for i in range(1,n+1):\n",
    "    res+=s[-(i)]\n",
    "print(res)"
   ]
  },
  {
   "cell_type": "markdown",
   "id": "1f89dda1-7d28-47e8-9899-d8996b1267f4",
   "metadata": {},
   "source": [
    "# 4. Merge two sorted arrays into a single sorted array without using any built-in sort methods."
   ]
  },
  {
   "cell_type": "code",
   "execution_count": 29,
   "id": "ce85b726-a5f8-4858-80bd-a4629d54dd16",
   "metadata": {},
   "outputs": [
    {
     "name": "stdout",
     "output_type": "stream",
     "text": [
      "[1, 2, 4, 3, 2, 2, 3, 4]\n"
     ]
    }
   ],
   "source": [
    "a=[1,2,3,4]\n",
    "b=[2,3,4,2]\n",
    "for i in b:\n",
    "    for j in range(0,len(a)):\n",
    "        if i>=a[j]:\n",
    "            a.insert(j+1,i)\n",
    "            break\n",
    "        elif a[j]<i:\n",
    "            a.insert(j,i)\n",
    "            break\n",
    "print(a)\n",
    "        \n",
    "    \n"
   ]
  },
  {
   "cell_type": "markdown",
   "id": "f4205d9c-0b9e-48ee-b572-6709118bca5a",
   "metadata": {},
   "source": [
    "# 5. Write a program to calculate the factorial of a number using recursion."
   ]
  },
  {
   "cell_type": "code",
   "execution_count": 4,
   "id": "cc15d42a-fdc4-4316-a6ad-2cbf57793245",
   "metadata": {},
   "outputs": [
    {
     "name": "stdin",
     "output_type": "stream",
     "text": [
      " 6\n"
     ]
    },
    {
     "name": "stdout",
     "output_type": "stream",
     "text": [
      "720\n"
     ]
    }
   ],
   "source": [
    "n=int(input())\n",
    "def fact(n):\n",
    "    if n>1:\n",
    "        return n*fact(n-1)\n",
    "    else:\n",
    "        return n\n",
    "print(fact(n))"
   ]
  },
  {
   "cell_type": "markdown",
   "id": "fba5d245-2a2b-48db-9b1f-bf96af23bbd2",
   "metadata": {},
   "source": [
    "# 6. Find the largest contiguous subarray sum (Kadane’s Algorithm)"
   ]
  },
  {
   "cell_type": "markdown",
   "id": "6629cd56-dd92-4d8c-9c1a-577441685664",
   "metadata": {},
   "source": [
    "# 7. Check if a given string is a palindrome."
   ]
  },
  {
   "cell_type": "code",
   "execution_count": 9,
   "id": "9961f771-c42d-4936-8fad-414155e62bf1",
   "metadata": {},
   "outputs": [
    {
     "name": "stdin",
     "output_type": "stream",
     "text": [
      " abc\n"
     ]
    },
    {
     "name": "stdout",
     "output_type": "stream",
     "text": [
      "False\n"
     ]
    }
   ],
   "source": [
    "b=input()\n",
    "def pal(b):\n",
    "    n=len(b)\n",
    "    res=\"\"\n",
    "    for i in range(1,n+1):\n",
    "        res+=b[-(i)]\n",
    "    return res\n",
    "print(b==pal(b))"
   ]
  },
  {
   "cell_type": "markdown",
   "id": "f9aed32b-e8d1-4e31-9f2e-261b6c17afa6",
   "metadata": {},
   "source": [
    "# 8. Convert a decimal number to binary without using built-in functions."
   ]
  },
  {
   "cell_type": "code",
   "execution_count": 17,
   "id": "e7c9bf8e-9a99-427d-9102-c96dd3f6eaab",
   "metadata": {},
   "outputs": [
    {
     "name": "stdin",
     "output_type": "stream",
     "text": [
      " 56\n"
     ]
    },
    {
     "name": "stdout",
     "output_type": "stream",
     "text": [
      "111000\n"
     ]
    }
   ],
   "source": [
    "c=int(input())\n",
    "binary=\"\"\n",
    "q=c\n",
    "r=0\n",
    "while q!=0:\n",
    "    r=q%2\n",
    "    binary+=str(r)\n",
    "    q=q//2\n",
    "print(binary[::-1])"
   ]
  },
  {
   "cell_type": "markdown",
   "id": "ffec7f38-7ba2-4889-83df-8974691a7c52",
   "metadata": {},
   "source": [
    " # 9.  Find pairs in an array with a given sum."
   ]
  },
  {
   "cell_type": "code",
   "execution_count": 2,
   "id": "9078926c-e72b-4278-84d5-af105ba6925c",
   "metadata": {},
   "outputs": [
    {
     "name": "stdin",
     "output_type": "stream",
     "text": [
      " 1 2 1 5 2 1 3\n",
      " 4\n"
     ]
    },
    {
     "name": "stdout",
     "output_type": "stream",
     "text": [
      "[(1, 3), (2, 2)]\n"
     ]
    }
   ],
   "source": [
    "list1=list(map(int,input().split()))\n",
    "k=int(input())\n",
    "res=[]\n",
    "for i in range(1,len(list1)):\n",
    "    for j in range(i,len(list1)):\n",
    "        if i+j==k:\n",
    "            res.append((i,j))\n",
    "print(res)"
   ]
  },
  {
   "cell_type": "markdown",
   "id": "6937a223-e411-44b6-8343-35be254668e4",
   "metadata": {},
   "source": [
    "# 10. Count the frequency of elements in a list."
   ]
  },
  {
   "cell_type": "code",
   "execution_count": 5,
   "id": "03a4de83-c411-40cb-bfdb-ace85196da2e",
   "metadata": {},
   "outputs": [
    {
     "name": "stdin",
     "output_type": "stream",
     "text": [
      " 1 2 1 5 2 1 2 3 \n",
      " 1\n"
     ]
    },
    {
     "name": "stdout",
     "output_type": "stream",
     "text": [
      "3\n"
     ]
    }
   ],
   "source": [
    "d=list(map(int,input().split()))\n",
    "key=int(input())\n",
    "f=0\n",
    "for i in d:\n",
    "    if i==key:\n",
    "        f+=1\n",
    "print(f)"
   ]
  },
  {
   "cell_type": "markdown",
   "id": "87213fea-5344-4447-8b05-de0a42e57e27",
   "metadata": {},
   "source": [
    "# 11. Fibonacci sequence: Write a program to generate the first N numbers in the Fibonacci sequence using recursion"
   ]
  },
  {
   "cell_type": "code",
   "execution_count": null,
   "id": "8955ef03-a957-43fb-b7ac-05d7b7483fa2",
   "metadata": {},
   "outputs": [],
   "source": [
    "\n",
    "   "
   ]
  },
  {
   "cell_type": "markdown",
   "id": "ada00688-27db-48be-abf8-6ad07109d4b7",
   "metadata": {},
   "source": [
    "# 12. Remove duplicates from a list: Write a program to remove duplicate elements from a list while preserving the order of elements."
   ]
  },
  {
   "cell_type": "code",
   "execution_count": 6,
   "id": "6efbdd9c-e36d-4aeb-a23f-e304cbffd916",
   "metadata": {},
   "outputs": [
    {
     "name": "stdin",
     "output_type": "stream",
     "text": [
      " 1 2 4 5 2 1 1 2 3 5\n"
     ]
    },
    {
     "name": "stdout",
     "output_type": "stream",
     "text": [
      "[1, 2, 4, 5, 3]\n"
     ]
    }
   ],
   "source": [
    "li=list(map(int,input().split()))\n",
    "r=[]\n",
    "for i in li:\n",
    "    if i not in r:\n",
    "        r.append(i)\n",
    "print(r)"
   ]
  },
  {
   "cell_type": "markdown",
   "id": "3156539b-1d19-402c-a0a9-be312ea374fe",
   "metadata": {},
   "source": [
    "# 13. Anagram check: Write a Python function that checks if two strings are anagrams of each other (i.e., if they contain the same characters in any order)."
   ]
  },
  {
   "cell_type": "code",
   "execution_count": 9,
   "id": "0eb0df52-551d-4ac1-9f56-e10c564bc35f",
   "metadata": {},
   "outputs": [
    {
     "name": "stdin",
     "output_type": "stream",
     "text": [
      " bcs\n",
      " bcn\n"
     ]
    },
    {
     "name": "stdout",
     "output_type": "stream",
     "text": [
      "False\n"
     ]
    }
   ],
   "source": [
    "s1=input()\n",
    "s2=input()\n",
    "print(set(list(s1))==set(list(s2)))"
   ]
  },
  {
   "cell_type": "markdown",
   "id": "416fb95d-0277-41fe-adc1-867e8b39db2e",
   "metadata": {},
   "source": [
    "# 14. Count vowels and consonants: Write a program that takes a string as input and counts the number of vowels and consonants in it."
   ]
  },
  {
   "cell_type": "code",
   "execution_count": 10,
   "id": "c50d4929-936e-4bd0-a0cf-7043799c4723",
   "metadata": {},
   "outputs": [
    {
     "name": "stdin",
     "output_type": "stream",
     "text": [
      " sdmhfbaschewqi\n"
     ]
    },
    {
     "name": "stdout",
     "output_type": "stream",
     "text": [
      "Vowels:3 Consonants:11\n"
     ]
    }
   ],
   "source": [
    "o=[\"a\",\"e\",\"i\",\"o\",\"u\",\"A\",\"E\",\"O\",\"I\",\"U\"]\n",
    "s=input()\n",
    "a,b=0,0\n",
    "for i in s:\n",
    "    if i in o:\n",
    "        a+=1\n",
    "    else:\n",
    "        b+=1\n",
    "print(f\"Vowels:{a} Consonants:{b}\")"
   ]
  },
  {
   "cell_type": "markdown",
   "id": "4329f868-f3cd-4d2e-a97b-851ab2e7d883",
   "metadata": {},
   "source": [
    "# 15. Binary search algorithm: Implement the binary search algorithm for a sorted list and return the index of a target value."
   ]
  },
  {
   "cell_type": "code",
   "execution_count": 11,
   "id": "6f18dd21-3fc9-45c2-8bcc-23909a35cf53",
   "metadata": {},
   "outputs": [
    {
     "name": "stdin",
     "output_type": "stream",
     "text": [
      " 5 4 5 6 4 2 3 4 6 5\n",
      " 5\n"
     ]
    }
   ],
   "source": [
    "lis=list(map(int,input().split()))\n",
    "key=int(input())\n",
    "lis.sort()\n",
    "high=len(lis)\n",
    "low=0\n",
    "mid=len(lis)//2\n",
    "while high<low:\n",
    "    if key>lis[mid]:\n",
    "        low=mid\n",
    "        high=high\n",
    "        mid=len(lis[low:high])//2\n",
    "    elif key<lis[mid]:\n",
    "        high=mid\n",
    "        low=low\n",
    "        mid=len(lis[low:high])//2\n",
    "    else:\n",
    "        print(lis[mid])\n"
   ]
  },
  {
   "cell_type": "markdown",
   "id": "b88dc927-c769-4fa7-8cb8-e64a49cefbdb",
   "metadata": {},
   "source": [
    "# 16. Check if a list is sorted: Write a function to check if a given list is sorted in ascending order"
   ]
  },
  {
   "cell_type": "code",
   "execution_count": 14,
   "id": "4b77c56f-c066-40dc-83c1-d68e080312fd",
   "metadata": {},
   "outputs": [
    {
     "name": "stdin",
     "output_type": "stream",
     "text": [
      " 2 1 3 5 2 1\n"
     ]
    },
    {
     "name": "stdout",
     "output_type": "stream",
     "text": [
      "Not Sorted\n"
     ]
    }
   ],
   "source": [
    "li=list(map(int,input().split()))\n",
    "def sortedd(li):\n",
    "    for i in range(0,len(li)-1):\n",
    "        if li[i]>li[i+1]:\n",
    "            return \"Not Sorted\"\n",
    "    return \"Sorted\"\n",
    "\n",
    "print(sortedd(li))"
   ]
  },
  {
   "cell_type": "markdown",
   "id": "68c55923-5556-4e00-8fe2-9fe852f9ed0b",
   "metadata": {},
   "source": [
    "# 17. Transpose of a matrix: Given a matrix (2D list), write a Python function to calculate the transpose of the matrix."
   ]
  },
  {
   "cell_type": "code",
   "execution_count": 15,
   "id": "be24442e-6987-4888-ae62-85f4d948f270",
   "metadata": {},
   "outputs": [
    {
     "name": "stdout",
     "output_type": "stream",
     "text": [
      "[[1 5 9]\n",
      " [2 6 3]\n",
      " [3 7 1]\n",
      " [4 8 5]]\n"
     ]
    }
   ],
   "source": [
    "import numpy as np\n",
    "arr=np.array([[1,2,3,4],[5,6,7,8],[9,3,1,5]])\n",
    "print(np.transpose(arr))"
   ]
  },
  {
   "cell_type": "markdown",
   "id": "ad25bb0b-6c75-4c5d-a77c-2536e5ee82cf",
   "metadata": {},
   "source": [
    "# 18. Sum of digits of a number: Write a recursive function to find the sum of digits of a given number"
   ]
  },
  {
   "cell_type": "code",
   "execution_count": 16,
   "id": "13efd332-8396-4cdb-ac16-03350e0362a3",
   "metadata": {},
   "outputs": [
    {
     "name": "stdin",
     "output_type": "stream",
     "text": [
      " 235\n"
     ]
    },
    {
     "name": "stdout",
     "output_type": "stream",
     "text": [
      "10\n"
     ]
    }
   ],
   "source": [
    "n=input()\n",
    "s=0\n",
    "for i in n:\n",
    "    s+=int(i)\n",
    "print(s)"
   ]
  },
  {
   "cell_type": "markdown",
   "id": "10e7f97b-35f5-4481-a16a-cbbdd3149386",
   "metadata": {},
   "source": [
    "# 19. Intersection of two lists: Write a program that finds the intersection of two lists (i.e.,common elements between them)"
   ]
  },
  {
   "cell_type": "code",
   "execution_count": 21,
   "id": "b03a9cc4-0920-4cba-87a7-c8bff75d0924",
   "metadata": {},
   "outputs": [
    {
     "name": "stdout",
     "output_type": "stream",
     "text": [
      "{1, 2, 3}\n"
     ]
    }
   ],
   "source": [
    "import numpy as np\n",
    "set1={1,2,4,3}\n",
    "set2={5,1,2,3}\n",
    "print(set1&set2)"
   ]
  },
  {
   "cell_type": "markdown",
   "id": "3af9e2d0-3141-485c-b05e-23752c4d81b4",
   "metadata": {},
   "source": [
    "# 20. Find all permutations of a string: Write a program to find all permutations of a given string."
   ]
  },
  {
   "cell_type": "code",
   "execution_count": null,
   "id": "8cb0eedc-14b4-46b7-b97a-b8f7c2278bc1",
   "metadata": {},
   "outputs": [],
   "source": []
  }
 ],
 "metadata": {
  "kernelspec": {
   "display_name": "Python 3 (ipykernel)",
   "language": "python",
   "name": "python3"
  },
  "language_info": {
   "codemirror_mode": {
    "name": "ipython",
    "version": 3
   },
   "file_extension": ".py",
   "mimetype": "text/x-python",
   "name": "python",
   "nbconvert_exporter": "python",
   "pygments_lexer": "ipython3",
   "version": "3.10.1"
  },
  "widgets": {
   "application/vnd.jupyter.widget-state+json": {
    "state": {},
    "version_major": 2,
    "version_minor": 0
   }
  }
 },
 "nbformat": 4,
 "nbformat_minor": 5
}
