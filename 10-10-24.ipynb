{
 "cells": [
  {
   "cell_type": "markdown",
   "id": "9bc979b9-bbe9-4588-aa2b-45813c6c943e",
   "metadata": {},
   "source": [
    "# 1. Find duplicates in a list: Write a function that returns a list of duplicate elements from a given list.\n"
   ]
  },
  {
   "cell_type": "code",
   "execution_count": 1,
   "id": "004411bf-d1bc-4455-a851-ebc1ad15112d",
   "metadata": {},
   "outputs": [
    {
     "name": "stdin",
     "output_type": "stream",
     "text": [
      " 1 2 4 5 7 5 1 2 3\n"
     ]
    },
    {
     "name": "stdout",
     "output_type": "stream",
     "text": [
      "5 1 2 "
     ]
    }
   ],
   "source": [
    "l=list(map(int,input().split()))\n",
    "uni=[]\n",
    "for i in l:\n",
    "    if i not in uni:\n",
    "        uni.append(i)\n",
    "    else:\n",
    "        print(i,end=\" \")\n"
   ]
  },
  {
   "cell_type": "markdown",
   "id": "fd058a1c-54bf-49ff-8c9b-a7b0ad85f02b",
   "metadata": {},
   "source": [
    "# 2. Check if a string is a valid palindrome: Implement a function that checks if a string is a palindrome, ignoring spaces and punctuation."
   ]
  },
  {
   "cell_type": "code",
   "execution_count": 5,
   "id": "52d96416-3047-40cd-be10-cab658d3226e",
   "metadata": {},
   "outputs": [
    {
     "name": "stdin",
     "output_type": "stream",
     "text": [
      " ab a\n"
     ]
    },
    {
     "name": "stdout",
     "output_type": "stream",
     "text": [
      "True\n"
     ]
    }
   ],
   "source": [
    "n=input()\n",
    "st=\"\"\n",
    "for i in n:\n",
    "    if i.isalpha():\n",
    "        st+=i.lower()\n",
    "print(st==st[::-1])"
   ]
  },
  {
   "cell_type": "markdown",
   "id": "9aadfc6c-fa1d-4b13-814f-8ddef119ec43",
   "metadata": {},
   "source": [
    "# 3. Find the prime factors of a number: Write a program to compute all prime factors of a given number"
   ]
  },
  {
   "cell_type": "code",
   "execution_count": 3,
   "id": "b67950db-b737-46ae-941c-8de77b526e81",
   "metadata": {},
   "outputs": [
    {
     "name": "stdin",
     "output_type": "stream",
     "text": [
      "Enter the number: 12\n"
     ]
    },
    {
     "name": "stdout",
     "output_type": "stream",
     "text": [
      "[2, 3]\n"
     ]
    }
   ],
   "source": [
    "def prime(n):\n",
    "    c=0\n",
    "    for i in range(1,n+1):\n",
    "        if n%i==0:\n",
    "            c+=1\n",
    "    if c==2:\n",
    "        return True\n",
    "    return False\n",
    "m=int(input(\"Enter the number:\"))\n",
    "li=[]\n",
    "for i in range(1,m+1):\n",
    "    if m%i==0:\n",
    "        if prime(i):\n",
    "            li.append(i)\n",
    "print(li)\n",
    "            "
   ]
  },
  {
   "cell_type": "markdown",
   "id": "8a1e3a46-83b5-439b-9c4a-ca3085103b1b",
   "metadata": {},
   "source": [
    "# 4. Count the number of words in a sentence: Create a function that counts the number of words in a given sentence."
   ]
  },
  {
   "cell_type": "code",
   "execution_count": 4,
   "id": "be482a88-337e-44eb-a416-9c2724b785b2",
   "metadata": {},
   "outputs": [
    {
     "name": "stdout",
     "output_type": "stream",
     "text": [
      "7\n"
     ]
    }
   ],
   "source": [
    "def count(word):\n",
    "    c=0\n",
    "    for i in word:\n",
    "        c+=1\n",
    "    return c\n",
    "\n",
    "print(count(\"Bharath\"))"
   ]
  },
  {
   "cell_type": "markdown",
   "id": "d2e2a099-3570-4416-809b-92b0b1c0aa5b",
   "metadata": {},
   "source": [
    "# 5. Rotate a list: Write a function that rotates a list to the right by a given number of steps.\n"
   ]
  },
  {
   "cell_type": "code",
   "execution_count": 7,
   "id": "fcf7d832-39e8-49c1-83e4-3306d61bd5f2",
   "metadata": {},
   "outputs": [
    {
     "name": "stdin",
     "output_type": "stream",
     "text": [
      " 1 2 3 4 5 6\n",
      " 3\n"
     ]
    },
    {
     "name": "stdout",
     "output_type": "stream",
     "text": [
      "[4, 5, 6, 1, 2, 3]\n"
     ]
    }
   ],
   "source": [
    "list1=list(map(int,input().split()))\n",
    "k=int(input())\n",
    "for i in range(k):\n",
    "    list1.insert(0,list1.pop())\n",
    "print(list1)"
   ]
  },
  {
   "cell_type": "markdown",
   "id": "f4ddcae8-9282-4cde-897d-f5b501537984",
   "metadata": {},
   "source": [
    "# 6. Find the first repeating character in a string: Implement a function that returns the first character that appears more than once in a string.\n"
   ]
  },
  {
   "cell_type": "code",
   "execution_count": 8,
   "id": "855ae487-792d-4bf3-8fc4-c4c275e2e2a7",
   "metadata": {},
   "outputs": [
    {
     "name": "stdin",
     "output_type": "stream",
     "text": [
      " 1 3 2 1 3\n"
     ]
    },
    {
     "name": "stdout",
     "output_type": "stream",
     "text": [
      "1\n"
     ]
    }
   ],
   "source": [
    "list2=list(map(int,input().split()))\n",
    "def first(list2):\n",
    "    resu=[]\n",
    "    for i in list2:\n",
    "        if i in resu:\n",
    "            return i\n",
    "        else:\n",
    "            resu.append(i)\n",
    "print(first(list2))"
   ]
  },
  {
   "cell_type": "markdown",
   "id": "d67f50e8-f5e9-4e9c-9da3-c5716ffc000f",
   "metadata": {},
   "source": [
    "# 7. Merge two dictionaries: Write a program that merges two dictionaries into one, with values combined for duplicate keys.\n"
   ]
  },
  {
   "cell_type": "code",
   "execution_count": 11,
   "id": "9973454c-ced5-4f63-a4de-b8ea26497569",
   "metadata": {},
   "outputs": [
    {
     "name": "stdout",
     "output_type": "stream",
     "text": [
      "{'One': 1, 'Two': 2, 'Three': 3, 'Four': 4}\n"
     ]
    }
   ],
   "source": [
    "dic1={\"One\":1,\"Two\":2,\"Three\":3}\n",
    "dic2={\"Two\":2,\"Three\":3,\"Four\":4}\n",
    "for i,j in dic2.items():\n",
    "    if i in dic1:\n",
    "        continue\n",
    "    else:\n",
    "        dic1[i]=j\n",
    "print(dic1)"
   ]
  },
  {
   "cell_type": "markdown",
   "id": "da946cf9-2ec1-47c8-b1a8-b9f99bd66c2a",
   "metadata": {},
   "source": [
    "# 8. Find all pairs in an array that sum to a specific target: Create a function that finds all pairs in an array that add up to a given target value"
   ]
  },
  {
   "cell_type": "code",
   "execution_count": 12,
   "id": "300f9104-6bca-47bd-87e9-f75fdeb309be",
   "metadata": {},
   "outputs": [
    {
     "name": "stdin",
     "output_type": "stream",
     "text": [
      " 1 2 3 1 2 4 5\n",
      " 4\n"
     ]
    },
    {
     "name": "stdout",
     "output_type": "stream",
     "text": [
      "[(0, 4), (1, 3), (2, 2)]\n"
     ]
    }
   ],
   "source": [
    "def pair(list4,key):\n",
    "    res3=[]\n",
    "    for i in range(0,len(list4)):\n",
    "        for j in range(i,len(list4)):\n",
    "            if i+j==key:\n",
    "                res3.append((i,j))\n",
    "    return res3\n",
    "list4=list(map(int,input().split()))\n",
    "key=int(input())\n",
    "print(pair(list4,key))\n",
    "        \n",
    "    "
   ]
  },
  {
   "cell_type": "markdown",
   "id": "1eab1dfa-b5dc-4aa9-85f8-601fe97b5405",
   "metadata": {},
   "source": [
    "# 9. Implement a stack using a list: Write a class that implements stack operations (push, pop, peek) using a list"
   ]
  },
  {
   "cell_type": "code",
   "execution_count": 13,
   "id": "d95b00db-ecc2-4eb7-9927-57823e1994ee",
   "metadata": {},
   "outputs": [
    {
     "name": "stdin",
     "output_type": "stream",
     "text": [
      " 1 2 4 5 3\n"
     ]
    },
    {
     "name": "stdout",
     "output_type": "stream",
     "text": [
      "3\n",
      "[1, 2, 4, 5]\n",
      "[1, 2, 4, 5, 9]\n"
     ]
    }
   ],
   "source": [
    "l9=list(map(int,input().split()))\n",
    "def peek(l9):\n",
    "    return l9[-1]\n",
    "def pop(l9):\n",
    "    if len(l9)>=1:\n",
    "        l9.pop()\n",
    "    return l9\n",
    "def push(l9,k):\n",
    "    l9.append(k)\n",
    "    return l9\n",
    "print(peek(l9))\n",
    "print(pop(l9))\n",
    "print(push(l9,9))"
   ]
  },
  {
   "cell_type": "markdown",
   "id": "3e13356c-c6c5-4dc1-842e-dee553b9b537",
   "metadata": {},
   "source": [
    "# 10. Find the longest substring without repeating characters: Create a function to find the length of the longest substring that contains all unique characters.\n"
   ]
  },
  {
   "cell_type": "code",
   "execution_count": 15,
   "id": "a6160e13-5517-4a41-8be7-af450daa11b5",
   "metadata": {},
   "outputs": [
    {
     "name": "stdin",
     "output_type": "stream",
     "text": [
      " abdvdjs\n"
     ]
    },
    {
     "name": "stdout",
     "output_type": "stream",
     "text": [
      "['abdv']\n"
     ]
    }
   ],
   "source": [
    "s10=input()\n",
    "l10=[]\n",
    "res10=\"\"\n",
    "for i in s10:\n",
    "    if i not in res10:\n",
    "        res10+=i\n",
    "    else:\n",
    "        l10.append(res10)\n",
    "        res10=\"\"\n",
    "print(l10)        "
   ]
  },
  {
   "cell_type": "markdown",
   "id": "862bf6c3-3c62-4907-8de2-86a67ee46b62",
   "metadata": {},
   "source": [
    "# 11. Generate all combinations of a set: Write a function that generates all possible combinations of a given set of elements."
   ]
  },
  {
   "cell_type": "markdown",
   "id": "971313d3-828b-4a12-94d1-7fc0b01b2685",
   "metadata": {},
   "source": [
    "# 12. Check if two strings are anagrams: Implement a function that checks whether two strings are anagrams of each other"
   ]
  },
  {
   "cell_type": "code",
   "execution_count": 16,
   "id": "434866ca-5785-4376-9745-5a9a9fc2c6ab",
   "metadata": {},
   "outputs": [
    {
     "name": "stdin",
     "output_type": "stream",
     "text": [
      " abc\n",
      " cba\n"
     ]
    },
    {
     "name": "stdout",
     "output_type": "stream",
     "text": [
      "True\n"
     ]
    }
   ],
   "source": [
    "s12=input()\n",
    "s122=input()\n",
    "print(len(set(s12))==len(set(s122)))"
   ]
  },
  {
   "cell_type": "markdown",
   "id": "134eedeb-da9e-4bc9-9493-9578fc063abc",
   "metadata": {},
   "source": [
    "# 13. Find the median of a list of numbers: Write a function to calculate the median of a list of numbers.\n"
   ]
  },
  {
   "cell_type": "code",
   "execution_count": 19,
   "id": "453720b0-5fa8-4024-8ba4-e705fef537c3",
   "metadata": {},
   "outputs": [
    {
     "name": "stdin",
     "output_type": "stream",
     "text": [
      " 1 2 3 4 5 6 7 8 9\n"
     ]
    },
    {
     "name": "stdout",
     "output_type": "stream",
     "text": [
      "5\n"
     ]
    }
   ],
   "source": [
    "l13=list(map(int,input().split()))\n",
    "l13.sort()\n",
    "if len(l13)%2==0:\n",
    "    print(l13[len(l13)//2])\n",
    "else:\n",
    "    print(l13[int(len(l13)/2)])\n"
   ]
  },
  {
   "cell_type": "markdown",
   "id": "45b3f3cd-b919-4443-bbd4-36dbe773985a",
   "metadata": {},
   "source": [
    "# 14. Implement a binary search tree: Create a class that implements a binary search tree with insert and search functions."
   ]
  },
  {
   "cell_type": "code",
   "execution_count": null,
   "id": "c030b9b4-4f9b-43e9-bcea-a240ee966b26",
   "metadata": {},
   "outputs": [],
   "source": []
  },
  {
   "cell_type": "markdown",
   "id": "9df4033d-76d0-4ee7-bdaa-f7c0c5661bb1",
   "metadata": {},
   "source": [
    "# 15. Check if a given year is a leap year: Write a function that checks whether a given year is a leap year.\n",
    "\n"
   ]
  },
  {
   "cell_type": "code",
   "execution_count": null,
   "id": "376491ac-0fe0-4aaf-9d39-0c8796056d6c",
   "metadata": {},
   "outputs": [],
   "source": []
  },
  {
   "cell_type": "markdown",
   "id": "a5bc2753-0273-49e8-8af9-2639976ecc34",
   "metadata": {},
   "source": [
    "# 16. Find the kth smallest element in an array: Implement a function that finds the kth smallest element in an unsorted array.\n"
   ]
  },
  {
   "cell_type": "code",
   "execution_count": 21,
   "id": "d34f9877-dd96-43c8-9a15-ee0410645875",
   "metadata": {},
   "outputs": [
    {
     "name": "stdin",
     "output_type": "stream",
     "text": [
      " 4 5 7 5  4 2 4 6 7\n",
      "Enter the number: 5\n"
     ]
    },
    {
     "name": "stdout",
     "output_type": "stream",
     "text": [
      "[2, 4, 4, 4, 5, 5, 6, 7, 7]\n",
      "5\n"
     ]
    }
   ],
   "source": [
    "l16=list(map(int,input().split()))\n",
    "l16.sort()\n",
    "k16=int(input(\"Enter the number:\"))\n",
    "print(l16)\n",
    "print(l16[k16-1])"
   ]
  },
  {
   "cell_type": "markdown",
   "id": "452732e8-e77a-41de-971b-d48fbc502d07",
   "metadata": {},
   "source": [
    "# 17. Sum of digits in a number: Write a recursive function to calculate the sum of digits of a given number.\n"
   ]
  },
  {
   "cell_type": "code",
   "execution_count": null,
   "id": "52f51505-cb83-43e9-8840-daacf29612ff",
   "metadata": {},
   "outputs": [],
   "source": []
  },
  {
   "cell_type": "markdown",
   "id": "e6c12b74-158a-438d-8f40-360000c28daa",
   "metadata": {},
   "source": [
    "# 18. Count the number of uppercase and lowercase letters: Create a function that counts the number of uppercase and lowercase letters in a string."
   ]
  },
  {
   "cell_type": "code",
   "execution_count": 23,
   "id": "6a0b68fe-d6bf-4596-9540-09114eb62a56",
   "metadata": {},
   "outputs": [
    {
     "name": "stdin",
     "output_type": "stream",
     "text": [
      " BahabsBahsbHA\n"
     ]
    },
    {
     "name": "stdout",
     "output_type": "stream",
     "text": [
      "(4, 9)\n"
     ]
    }
   ],
   "source": [
    "def fun(s18):\n",
    "    u=0\n",
    "    l=0\n",
    "    for i in s18:\n",
    "        u+=i.isupper()\n",
    "        l+=i.islower()\n",
    "    return u,l\n",
    "print(fun(input()))\n",
    "            "
   ]
  },
  {
   "cell_type": "markdown",
   "id": "3a0f44a1-387c-425c-becf-f465f59ac761",
   "metadata": {},
   "source": [
    "# 19. Implement the bubble sort algorithm: Write a function to sort a list using the bubble sort algorithm.\n"
   ]
  },
  {
   "cell_type": "code",
   "execution_count": null,
   "id": "8262ea40-abe8-4343-a293-0a894d49abd2",
   "metadata": {},
   "outputs": [],
   "source": []
  },
  {
   "cell_type": "markdown",
   "id": "846c9f87-7561-4668-9118-e48da83af915",
   "metadata": {},
   "source": [
    "# 20. Find the intersection of two lists: Write a program that finds the common elements between two lists."
   ]
  },
  {
   "cell_type": "code",
   "execution_count": 25,
   "id": "af65892e-a732-4e1b-b641-c9240a827f3d",
   "metadata": {},
   "outputs": [
    {
     "name": "stdin",
     "output_type": "stream",
     "text": [
      " 1 2 3 4 5 6\n",
      "  8 5 4 2 6\n"
     ]
    },
    {
     "name": "stdout",
     "output_type": "stream",
     "text": [
      "[2, 4, 5, 6]\n"
     ]
    }
   ],
   "source": [
    "l20=list(map(int,input().split()))\n",
    "l200=list(map(int,input().split()))\n",
    "res20=[]\n",
    "for i in l20:\n",
    "    if i in l200 or i in res20:\n",
    "        res20.append(i)\n",
    "print(res20)"
   ]
  },
  {
   "cell_type": "code",
   "execution_count": null,
   "id": "53846fce-0618-4490-a4ab-445417f0fe32",
   "metadata": {},
   "outputs": [],
   "source": []
  }
 ],
 "metadata": {
  "kernelspec": {
   "display_name": "Python 3 (ipykernel)",
   "language": "python",
   "name": "python3"
  },
  "language_info": {
   "codemirror_mode": {
    "name": "ipython",
    "version": 3
   },
   "file_extension": ".py",
   "mimetype": "text/x-python",
   "name": "python",
   "nbconvert_exporter": "python",
   "pygments_lexer": "ipython3",
   "version": "3.10.1"
  },
  "widgets": {
   "application/vnd.jupyter.widget-state+json": {
    "state": {},
    "version_major": 2,
    "version_minor": 0
   }
  }
 },
 "nbformat": 4,
 "nbformat_minor": 5
}
