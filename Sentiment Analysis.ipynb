{
 "cells": [
  {
   "cell_type": "code",
   "execution_count": 42,
   "id": "561f8737-e8bb-4e5d-be1c-4bcde8e5a785",
   "metadata": {},
   "outputs": [],
   "source": [
    "key=\"b4fe90ed47f647b5b95b90cf976db83f\"\n",
    "endpoint=\"https://staging-language-model.cognitiveservices.azure.com/\""
   ]
  },
  {
   "cell_type": "code",
   "execution_count": 2,
   "id": "008069c4-d2b4-43de-bad3-1b782787dd6c",
   "metadata": {},
   "outputs": [],
   "source": [
    "import pandas as pd"
   ]
  },
  {
   "cell_type": "code",
   "execution_count": 14,
   "id": "77acf446-a7df-4834-a74b-9bd9802cae6e",
   "metadata": {},
   "outputs": [
    {
     "data": {
      "text/html": [
       "<div>\n",
       "<style scoped>\n",
       "    .dataframe tbody tr th:only-of-type {\n",
       "        vertical-align: middle;\n",
       "    }\n",
       "\n",
       "    .dataframe tbody tr th {\n",
       "        vertical-align: top;\n",
       "    }\n",
       "\n",
       "    .dataframe thead th {\n",
       "        text-align: right;\n",
       "    }\n",
       "</style>\n",
       "<table border=\"1\" class=\"dataframe\">\n",
       "  <thead>\n",
       "    <tr style=\"text-align: right;\">\n",
       "      <th></th>\n",
       "      <th>Id</th>\n",
       "      <th>ProductId</th>\n",
       "      <th>UserId</th>\n",
       "      <th>ProfileName</th>\n",
       "      <th>HelpfulnessNumerator</th>\n",
       "      <th>HelpfulnessDenominator</th>\n",
       "      <th>Score</th>\n",
       "      <th>Time</th>\n",
       "      <th>Summary</th>\n",
       "      <th>Text</th>\n",
       "    </tr>\n",
       "  </thead>\n",
       "  <tbody>\n",
       "    <tr>\n",
       "      <th>0</th>\n",
       "      <td>1</td>\n",
       "      <td>B001E4KFG0</td>\n",
       "      <td>A3SGXH7AUHU8GW</td>\n",
       "      <td>delmartian</td>\n",
       "      <td>1</td>\n",
       "      <td>1</td>\n",
       "      <td>5</td>\n",
       "      <td>1303862400</td>\n",
       "      <td>Good Quality Dog Food</td>\n",
       "      <td>I have bought several of the Vitality canned d...</td>\n",
       "    </tr>\n",
       "    <tr>\n",
       "      <th>1</th>\n",
       "      <td>2</td>\n",
       "      <td>B00813GRG4</td>\n",
       "      <td>A1D87F6ZCVE5NK</td>\n",
       "      <td>dll pa</td>\n",
       "      <td>0</td>\n",
       "      <td>0</td>\n",
       "      <td>1</td>\n",
       "      <td>1346976000</td>\n",
       "      <td>Not as Advertised</td>\n",
       "      <td>Product arrived labeled as Jumbo Salted Peanut...</td>\n",
       "    </tr>\n",
       "    <tr>\n",
       "      <th>2</th>\n",
       "      <td>3</td>\n",
       "      <td>B000LQOCH0</td>\n",
       "      <td>ABXLMWJIXXAIN</td>\n",
       "      <td>Natalia Corres \"Natalia Corres\"</td>\n",
       "      <td>1</td>\n",
       "      <td>1</td>\n",
       "      <td>4</td>\n",
       "      <td>1219017600</td>\n",
       "      <td>\"Delight\" says it all</td>\n",
       "      <td>This is a confection that has been around a fe...</td>\n",
       "    </tr>\n",
       "    <tr>\n",
       "      <th>3</th>\n",
       "      <td>4</td>\n",
       "      <td>B000UA0QIQ</td>\n",
       "      <td>A395BORC6FGVXV</td>\n",
       "      <td>Karl</td>\n",
       "      <td>3</td>\n",
       "      <td>3</td>\n",
       "      <td>2</td>\n",
       "      <td>1307923200</td>\n",
       "      <td>Cough Medicine</td>\n",
       "      <td>If you are looking for the secret ingredient i...</td>\n",
       "    </tr>\n",
       "    <tr>\n",
       "      <th>4</th>\n",
       "      <td>5</td>\n",
       "      <td>B006K2ZZ7K</td>\n",
       "      <td>A1UQRSCLF8GW1T</td>\n",
       "      <td>Michael D. Bigham \"M. Wassir\"</td>\n",
       "      <td>0</td>\n",
       "      <td>0</td>\n",
       "      <td>5</td>\n",
       "      <td>1350777600</td>\n",
       "      <td>Great taffy</td>\n",
       "      <td>Great taffy at a great price.  There was a wid...</td>\n",
       "    </tr>\n",
       "    <tr>\n",
       "      <th>5</th>\n",
       "      <td>6</td>\n",
       "      <td>B006K2ZZ7K</td>\n",
       "      <td>ADT0SRK1MGOEU</td>\n",
       "      <td>Twoapennything</td>\n",
       "      <td>0</td>\n",
       "      <td>0</td>\n",
       "      <td>4</td>\n",
       "      <td>1342051200</td>\n",
       "      <td>Nice Taffy</td>\n",
       "      <td>I got a wild hair for taffy and ordered this f...</td>\n",
       "    </tr>\n",
       "    <tr>\n",
       "      <th>6</th>\n",
       "      <td>7</td>\n",
       "      <td>B006K2ZZ7K</td>\n",
       "      <td>A1SP2KVKFXXRU1</td>\n",
       "      <td>David C. Sullivan</td>\n",
       "      <td>0</td>\n",
       "      <td>0</td>\n",
       "      <td>5</td>\n",
       "      <td>1340150400</td>\n",
       "      <td>Great!  Just as good as the expensive brands!</td>\n",
       "      <td>This saltwater taffy had great flavors and was...</td>\n",
       "    </tr>\n",
       "    <tr>\n",
       "      <th>7</th>\n",
       "      <td>8</td>\n",
       "      <td>B006K2ZZ7K</td>\n",
       "      <td>A3JRGQVEQN31IQ</td>\n",
       "      <td>Pamela G. Williams</td>\n",
       "      <td>0</td>\n",
       "      <td>0</td>\n",
       "      <td>5</td>\n",
       "      <td>1336003200</td>\n",
       "      <td>Wonderful, tasty taffy</td>\n",
       "      <td>This taffy is so good.  It is very soft and ch...</td>\n",
       "    </tr>\n",
       "    <tr>\n",
       "      <th>8</th>\n",
       "      <td>9</td>\n",
       "      <td>B000E7L2R4</td>\n",
       "      <td>A1MZYO9TZK0BBI</td>\n",
       "      <td>R. James</td>\n",
       "      <td>1</td>\n",
       "      <td>1</td>\n",
       "      <td>5</td>\n",
       "      <td>1322006400</td>\n",
       "      <td>Yay Barley</td>\n",
       "      <td>Right now I'm mostly just sprouting this so my...</td>\n",
       "    </tr>\n",
       "    <tr>\n",
       "      <th>9</th>\n",
       "      <td>10</td>\n",
       "      <td>B00171APVA</td>\n",
       "      <td>A21BT40VZCCYT4</td>\n",
       "      <td>Carol A. Reed</td>\n",
       "      <td>0</td>\n",
       "      <td>0</td>\n",
       "      <td>5</td>\n",
       "      <td>1351209600</td>\n",
       "      <td>Healthy Dog Food</td>\n",
       "      <td>This is a very healthy dog food. Good for thei...</td>\n",
       "    </tr>\n",
       "  </tbody>\n",
       "</table>\n",
       "</div>"
      ],
      "text/plain": [
       "   Id   ProductId          UserId                      ProfileName  \\\n",
       "0   1  B001E4KFG0  A3SGXH7AUHU8GW                       delmartian   \n",
       "1   2  B00813GRG4  A1D87F6ZCVE5NK                           dll pa   \n",
       "2   3  B000LQOCH0   ABXLMWJIXXAIN  Natalia Corres \"Natalia Corres\"   \n",
       "3   4  B000UA0QIQ  A395BORC6FGVXV                             Karl   \n",
       "4   5  B006K2ZZ7K  A1UQRSCLF8GW1T    Michael D. Bigham \"M. Wassir\"   \n",
       "5   6  B006K2ZZ7K   ADT0SRK1MGOEU                   Twoapennything   \n",
       "6   7  B006K2ZZ7K  A1SP2KVKFXXRU1                David C. Sullivan   \n",
       "7   8  B006K2ZZ7K  A3JRGQVEQN31IQ               Pamela G. Williams   \n",
       "8   9  B000E7L2R4  A1MZYO9TZK0BBI                         R. James   \n",
       "9  10  B00171APVA  A21BT40VZCCYT4                    Carol A. Reed   \n",
       "\n",
       "   HelpfulnessNumerator  HelpfulnessDenominator  Score        Time  \\\n",
       "0                     1                       1      5  1303862400   \n",
       "1                     0                       0      1  1346976000   \n",
       "2                     1                       1      4  1219017600   \n",
       "3                     3                       3      2  1307923200   \n",
       "4                     0                       0      5  1350777600   \n",
       "5                     0                       0      4  1342051200   \n",
       "6                     0                       0      5  1340150400   \n",
       "7                     0                       0      5  1336003200   \n",
       "8                     1                       1      5  1322006400   \n",
       "9                     0                       0      5  1351209600   \n",
       "\n",
       "                                         Summary  \\\n",
       "0                          Good Quality Dog Food   \n",
       "1                              Not as Advertised   \n",
       "2                          \"Delight\" says it all   \n",
       "3                                 Cough Medicine   \n",
       "4                                    Great taffy   \n",
       "5                                     Nice Taffy   \n",
       "6  Great!  Just as good as the expensive brands!   \n",
       "7                         Wonderful, tasty taffy   \n",
       "8                                     Yay Barley   \n",
       "9                               Healthy Dog Food   \n",
       "\n",
       "                                                Text  \n",
       "0  I have bought several of the Vitality canned d...  \n",
       "1  Product arrived labeled as Jumbo Salted Peanut...  \n",
       "2  This is a confection that has been around a fe...  \n",
       "3  If you are looking for the secret ingredient i...  \n",
       "4  Great taffy at a great price.  There was a wid...  \n",
       "5  I got a wild hair for taffy and ordered this f...  \n",
       "6  This saltwater taffy had great flavors and was...  \n",
       "7  This taffy is so good.  It is very soft and ch...  \n",
       "8  Right now I'm mostly just sprouting this so my...  \n",
       "9  This is a very healthy dog food. Good for thei...  "
      ]
     },
     "execution_count": 14,
     "metadata": {},
     "output_type": "execute_result"
    }
   ],
   "source": [
    "data=pd.read_csv(\"Reviews.csv\")\n",
    "data=data.head(10)\n",
    "data"
   ]
  },
  {
   "cell_type": "code",
   "execution_count": 4,
   "id": "574da7c8-19ef-467d-91a8-35c1abcde75b",
   "metadata": {},
   "outputs": [],
   "source": [
    "from azure.ai.textanalytics import TextAnalyticsClient\n",
    "from azure.core.credentials import AzureKeyCredential"
   ]
  },
  {
   "cell_type": "code",
   "execution_count": 5,
   "id": "d90be130-ee9d-4414-95aa-f702698560a4",
   "metadata": {},
   "outputs": [],
   "source": [
    "client=TextAnalyticsClient(\n",
    "    endpoint=endpoint,\n",
    "    credential=AzureKeyCredential(key)\n",
    ")"
   ]
  },
  {
   "cell_type": "code",
   "execution_count": 8,
   "id": "a1ee7490-e8e2-4f54-8112-e7d989d87259",
   "metadata": {
    "scrolled": true
   },
   "outputs": [],
   "source": [
    "def Analyse_Summary(summary):\n",
    "    summary_sentiment=client.analyze_sentiment(summary)\n",
    "    sent_res=[]\n",
    "    for i in summary_sentiment:\n",
    "        sent_res.append(i.sentiment)\n",
    "    return sent_res\n",
    "\n"
   ]
  },
  {
   "cell_type": "code",
   "execution_count": 9,
   "id": "86c90509-42c6-4e15-9f5f-74d3fde09e42",
   "metadata": {},
   "outputs": [],
   "source": [
    "lis=list(data['Summary'])"
   ]
  },
  {
   "cell_type": "code",
   "execution_count": 10,
   "id": "d263935b-a582-4430-842a-408a014b43c0",
   "metadata": {},
   "outputs": [
    {
     "name": "stdout",
     "output_type": "stream",
     "text": [
      "['Good Quality Dog Food', 'Not as Advertised', '\"Delight\" says it all', 'Cough Medicine', 'Great taffy', 'Nice Taffy', 'Great!  Just as good as the expensive brands!', 'Wonderful, tasty taffy', 'Yay Barley', 'Healthy Dog Food']\n"
     ]
    }
   ],
   "source": [
    "print(lis)"
   ]
  },
  {
   "cell_type": "code",
   "execution_count": 11,
   "id": "b72b5edf-eeaf-46d1-b544-d051df7b2e98",
   "metadata": {},
   "outputs": [
    {
     "data": {
      "text/plain": [
       "['positive',\n",
       " 'negative',\n",
       " 'positive',\n",
       " 'neutral',\n",
       " 'positive',\n",
       " 'positive',\n",
       " 'positive',\n",
       " 'positive',\n",
       " 'positive',\n",
       " 'positive']"
      ]
     },
     "execution_count": 11,
     "metadata": {},
     "output_type": "execute_result"
    }
   ],
   "source": [
    "Analyse_Summary(lis)"
   ]
  },
  {
   "cell_type": "code",
   "execution_count": 21,
   "id": "94bc6dbb-25cb-4865-8990-80ae5ee9043f",
   "metadata": {},
   "outputs": [],
   "source": [
    "def key_phrase(Text):\n",
    "    key_res=[]\n",
    "    summary_keyphrase=client.extract_key_phrases(Text)\n",
    "    for i in summary_keyphrase:\n",
    "        key_res.append(i.key_phrases)\n",
    "    return key_res"
   ]
  },
  {
   "cell_type": "code",
   "execution_count": 22,
   "id": "4a400849-b3f5-4cf7-93a0-1bced41330cb",
   "metadata": {},
   "outputs": [],
   "source": [
    "lis1=data['Text'].to_list()"
   ]
  },
  {
   "cell_type": "code",
   "execution_count": 23,
   "id": "8e232e92-0dee-489c-bd9b-18a62e805de7",
   "metadata": {},
   "outputs": [
    {
     "name": "stdout",
     "output_type": "stream",
     "text": [
      "[['Vitality canned dog food products', 'good quality', 'processed meat', 'My Labrador', 'stew'], ['Jumbo Salted Peanuts', 'Product', 'error', 'vendor'], ['light, pillowy citrus gelatin', 'C.S. Lewis', 'tiny squares', 'powdered sugar', 'tiny mouthful', 'The Lion', 'The Wardrobe', 'yummy treat', 'The Witch', 'confection', 'centuries', 'nuts', 'case', 'Filberts', 'heaven', 'story', 'Edmund', 'Brother', 'Sisters'], ['Root Beer Extract', 'secret ingredient', 'cherry soda', 'Robitussin', 'addition', 'flavor'], ['Great taffy', 'great price', 'wide assortment', 'yummy taffy', 'taffy lover', 'Delivery', 'deal'], ['five pound bag', 'red/black licorice-flavored pieces', 'wild hair', 'many flavors', 'root beer', 'particular favorites', 'delightful treat', 'taffy', 'watermelon', 'peppermint', 'grape', 'complaint', 'kids', 'husband', 'two', 'brand'], ['saltwater taffy', 'great flavors', 'expensive version', 'beach-themed party', 'candy', 'None', 'candies', 'Fralinger', 'everyone'], ['taffy', 'flavors'], ['cats', 'grass', 'Rye'], ['healthy dog food', 'small puppies', 'required amount', 'digestion', 'feeding']]\n"
     ]
    }
   ],
   "source": [
    "print(key_phrase(lis1))"
   ]
  },
  {
   "cell_type": "code",
   "execution_count": 40,
   "id": "7e38a47d-8049-407f-88b9-8ed538cfeee5",
   "metadata": {},
   "outputs": [],
   "source": [
    "def entities(Text):\n",
    "    entities=[]\n",
    "    ent_res=client.recognize_entities(Text[0:5])\n",
    "    for i in ent_res:\n",
    "        entities.append([(entity.text, entity.category, entity.subcategory) for entity in i.entities])\n",
    "    return entities\n",
    "        "
   ]
  },
  {
   "cell_type": "code",
   "execution_count": 41,
   "id": "e6cd88fe-e5b1-4dd3-95e4-1c68a223e680",
   "metadata": {},
   "outputs": [
    {
     "name": "stdout",
     "output_type": "stream",
     "text": [
      "[('Vitality', 'Organization', 'Sports'), ('canned dog food products', 'Product', None), ('stew', 'Product', None), ('processed meat', 'Product', None), ('product', 'Product', None)]\n",
      "[('Product', 'Product', None), ('Jumbo Salted Peanuts', 'Product', None), ('peanuts', 'Product', None), ('vendor', 'PersonType', None)]\n",
      "[('confection', 'Product', None), ('gelatin', 'Product', None), ('Filberts', 'Product', None), ('powdered sugar', 'Product', None), ('heaven', 'Location', 'Structural'), ('C.S. Lewis', 'Person', None), ('Edmund', 'Person', None), ('Brother', 'PersonType', None), ('Sisters', 'PersonType', None), ('Witch', 'PersonType', None)]\n",
      "[('Robitussin', 'Product', None), ('Root Beer Extract', 'Product', None), ('cherry soda', 'Product', None)]\n",
      "[('taffy', 'Product', None), ('taffy', 'Product', None), ('Delivery', 'Skill', None), ('lover', 'PersonType', None)]\n"
     ]
    }
   ],
   "source": [
    "for i in entities(lis1):\n",
    "    print(i)"
   ]
  },
  {
   "cell_type": "code",
   "execution_count": null,
   "id": "2f70007e-6df1-4338-8ea4-fd155765105b",
   "metadata": {},
   "outputs": [],
   "source": []
  },
  {
   "cell_type": "code",
   "execution_count": null,
   "id": "8d7a13a2-e13a-4a05-b48b-5a357396ef85",
   "metadata": {},
   "outputs": [],
   "source": []
  }
 ],
 "metadata": {
  "kernelspec": {
   "display_name": "Python 3 (ipykernel)",
   "language": "python",
   "name": "python3"
  },
  "language_info": {
   "codemirror_mode": {
    "name": "ipython",
    "version": 3
   },
   "file_extension": ".py",
   "mimetype": "text/x-python",
   "name": "python",
   "nbconvert_exporter": "python",
   "pygments_lexer": "ipython3",
   "version": "3.10.1"
  },
  "widgets": {
   "application/vnd.jupyter.widget-state+json": {
    "state": {},
    "version_major": 2,
    "version_minor": 0
   }
  }
 },
 "nbformat": 4,
 "nbformat_minor": 5
}
