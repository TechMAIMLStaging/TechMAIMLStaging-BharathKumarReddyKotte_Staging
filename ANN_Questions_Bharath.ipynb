{
 "cells": [
  {
   "cell_type": "markdown",
   "id": "894c282b",
   "metadata": {},
   "source": [
    "### What is the name of the function used to create a dense layer?"
   ]
  },
  {
   "cell_type": "code",
   "execution_count": 3,
   "id": "d5f12284",
   "metadata": {},
   "outputs": [],
   "source": [
    "\n",
    "from tensorflow.keras.layers import Dense\n",
    "\n",
    "dense_layer = Dense(128, activation='relu')\n",
    "        "
   ]
  },
  {
   "cell_type": "markdown",
   "id": "7b325362",
   "metadata": {},
   "source": [
    "### How do you create an input layer in Keras?"
   ]
  },
  {
   "cell_type": "code",
   "execution_count": 4,
   "id": "9c14f5a7",
   "metadata": {},
   "outputs": [],
   "source": [
    "\n",
    "from tensorflow.keras.layers import Input\n",
    "\n",
    "input_layer = Input(shape=(64,))\n",
    "        "
   ]
  },
  {
   "cell_type": "markdown",
   "id": "762d10b2",
   "metadata": {},
   "source": [
    "### How do you add a Dropout layer in Keras?"
   ]
  },
  {
   "cell_type": "code",
   "execution_count": 5,
   "id": "dd831c35",
   "metadata": {},
   "outputs": [],
   "source": [
    "\n",
    "from tensorflow.keras.layers import Dropout\n",
    "\n",
    "dropout_layer = Dropout(0.5)\n",
    "        "
   ]
  },
  {
   "cell_type": "markdown",
   "id": "b97b9169",
   "metadata": {},
   "source": [
    "### What is the function to create a convolutional layer in Keras?"
   ]
  },
  {
   "cell_type": "code",
   "execution_count": 6,
   "id": "fa189112",
   "metadata": {},
   "outputs": [],
   "source": [
    "\n",
    "from tensorflow.keras.layers import Conv2D\n",
    "\n",
    "conv_layer = Conv2D(32, (3, 3), activation='relu')\n",
    "        "
   ]
  },
  {
   "cell_type": "markdown",
   "id": "755bdd93",
   "metadata": {},
   "source": [
    "### How do you create a max pooling layer in Keras?"
   ]
  },
  {
   "cell_type": "code",
   "execution_count": 7,
   "id": "b35061d0",
   "metadata": {},
   "outputs": [
    {
     "name": "stdout",
     "output_type": "stream",
     "text": [
      "WARNING:tensorflow:From C:\\Users\\Bharath Reddy\\AppData\\Local\\Programs\\Python\\Python310\\lib\\site-packages\\keras\\src\\layers\\pooling\\max_pooling2d.py:161: The name tf.nn.max_pool is deprecated. Please use tf.nn.max_pool2d instead.\n",
      "\n"
     ]
    }
   ],
   "source": [
    "\n",
    "from tensorflow.keras.layers import MaxPooling2D\n",
    "\n",
    "max_pooling_layer = MaxPooling2D(pool_size=(2, 2))\n",
    "        "
   ]
  },
  {
   "cell_type": "markdown",
   "id": "d4ac3aa9",
   "metadata": {},
   "source": [
    "### What is the function used to flatten inputs in Keras?"
   ]
  },
  {
   "cell_type": "code",
   "execution_count": 15,
   "id": "05406b5a",
   "metadata": {},
   "outputs": [],
   "source": [
    "\n",
    "from tensorflow.keras.layers import Flatten\n",
    "\n",
    "flatten_layer = Flatten()\n",
    "        "
   ]
  },
  {
   "cell_type": "markdown",
   "id": "691a9058",
   "metadata": {},
   "source": [
    "### How do you compile a model in Keras?"
   ]
  },
  {
   "cell_type": "code",
   "execution_count": 18,
   "id": "88ee4a0b",
   "metadata": {},
   "outputs": [
    {
     "name": "stdout",
     "output_type": "stream",
     "text": [
      "WARNING:tensorflow:From C:\\Users\\Bharath Reddy\\AppData\\Local\\Programs\\Python\\Python310\\lib\\site-packages\\keras\\src\\optimizers\\__init__.py:309: The name tf.train.Optimizer is deprecated. Please use tf.compat.v1.train.Optimizer instead.\n",
      "\n"
     ]
    }
   ],
   "source": [
    "import tensorflow \n",
    "from tensorflow.keras import models,layers,Sequential\n",
    "model=Sequential()\n",
    "model.compile(optimizer='adam', loss='sparse_categorical_crossentropy', metrics=['accuracy'])\n",
    "        "
   ]
  },
  {
   "cell_type": "markdown",
   "id": "8f38b509",
   "metadata": {},
   "source": [
    "### How do you define an optimizer in Keras?"
   ]
  },
  {
   "cell_type": "code",
   "execution_count": 19,
   "id": "8992326c",
   "metadata": {},
   "outputs": [],
   "source": [
    "\n",
    "from tensorflow.keras.optimizers import Adam\n",
    "\n",
    "optimizer = Adam(learning_rate=0.001)\n",
    "        "
   ]
  },
  {
   "cell_type": "markdown",
   "id": "31198dc2",
   "metadata": {},
   "source": [
    "### What is the function used to apply batch normalization in Keras?"
   ]
  },
  {
   "cell_type": "code",
   "execution_count": 20,
   "id": "8f18a284",
   "metadata": {},
   "outputs": [],
   "source": [
    "\n",
    "from tensorflow.keras.layers import BatchNormalization\n",
    "\n",
    "batch_norm_layer = BatchNormalization()\n",
    "        "
   ]
  },
  {
   "cell_type": "markdown",
   "id": "fb125797",
   "metadata": {},
   "source": [
    "### How do you add an LSTM layer in Keras?"
   ]
  },
  {
   "cell_type": "code",
   "execution_count": 21,
   "id": "621c60f0",
   "metadata": {},
   "outputs": [],
   "source": [
    "\n",
    "from tensorflow.keras.layers import LSTM\n",
    "\n",
    "lstm_layer = LSTM(128)\n",
    "        "
   ]
  },
  {
   "cell_type": "markdown",
   "id": "247415bc",
   "metadata": {},
   "source": [
    "### How do you create a simple RNN layer in Keras?"
   ]
  },
  {
   "cell_type": "code",
   "execution_count": 22,
   "id": "b165998a",
   "metadata": {},
   "outputs": [],
   "source": [
    "\n",
    "from tensorflow.keras.layers import SimpleRNN\n",
    "\n",
    "rnn_layer = SimpleRNN(64)\n",
    "        "
   ]
  },
  {
   "cell_type": "markdown",
   "id": "c199f44f",
   "metadata": {},
   "source": [
    "### How do you define a bidirectional LSTM in Keras?"
   ]
  },
  {
   "cell_type": "code",
   "execution_count": 23,
   "id": "70b6b1f2",
   "metadata": {},
   "outputs": [],
   "source": [
    "\n",
    "from tensorflow.keras.layers import Bidirectional, LSTM\n",
    "\n",
    "bidirectional_lstm_layer = Bidirectional(LSTM(64))\n",
    "        "
   ]
  },
  {
   "cell_type": "markdown",
   "id": "f1d55bb7",
   "metadata": {},
   "source": [
    "### How do you use an Embedding layer for text input in Keras?"
   ]
  },
  {
   "cell_type": "code",
   "execution_count": 24,
   "id": "a6fea484",
   "metadata": {},
   "outputs": [],
   "source": [
    "\n",
    "from tensorflow.keras.layers import Embedding\n",
    "\n",
    "embedding_layer = Embedding(input_dim=10000, output_dim=64)\n",
    "        "
   ]
  },
  {
   "cell_type": "markdown",
   "id": "6570a18f",
   "metadata": {},
   "source": [
    "### How do you reshape inputs using Keras?"
   ]
  },
  {
   "cell_type": "code",
   "execution_count": 25,
   "id": "92d2b1df",
   "metadata": {},
   "outputs": [],
   "source": [
    "\n",
    "from tensorflow.keras.layers import Reshape\n",
    "\n",
    "reshape_layer = Reshape((28, 28, 1))\n",
    "        "
   ]
  },
  {
   "cell_type": "markdown",
   "id": "755b65ec",
   "metadata": {},
   "source": [
    "### What function is used to implement early stopping in Keras?"
   ]
  },
  {
   "cell_type": "code",
   "execution_count": 26,
   "id": "650b2afd",
   "metadata": {},
   "outputs": [],
   "source": [
    "\n",
    "from tensorflow.keras.callbacks import EarlyStopping\n",
    "\n",
    "early_stopping = EarlyStopping(monitor='val_loss', patience=3)\n",
    "        "
   ]
  },
  {
   "cell_type": "markdown",
   "id": "f348a3d2",
   "metadata": {},
   "source": [
    "### How do you add a custom metric in Keras?"
   ]
  },
  {
   "cell_type": "code",
   "execution_count": 28,
   "id": "7a51e6be",
   "metadata": {},
   "outputs": [],
   "source": [
    "\n",
    "import tensorflow as tf\n",
    "\n",
    "def custom_metric(y_true, y_pred):\n",
    "    return tf.reduce_mean(tf.abs(y_true - y_pred))\n",
    "\n",
    "model.compile(optimizer='adam', loss='mse', metrics=[custom_metric])\n",
    "        "
   ]
  },
  {
   "cell_type": "markdown",
   "id": "7d997245",
   "metadata": {},
   "source": [
    "### How do you save a trained model in Keras?"
   ]
  },
  {
   "cell_type": "code",
   "execution_count": null,
   "id": "ad1a6db2",
   "metadata": {
    "scrolled": true
   },
   "outputs": [],
   "source": [
    "\n",
    "model.save('model.h5')\n",
    "        "
   ]
  },
  {
   "cell_type": "markdown",
   "id": "ae022315",
   "metadata": {},
   "source": [
    "### How do you load a saved Keras model?"
   ]
  },
  {
   "cell_type": "code",
   "execution_count": null,
   "id": "a210e683",
   "metadata": {},
   "outputs": [],
   "source": [
    "\n",
    "from tensorflow.keras.models import load_model\n",
    "\n",
    "model = load_model('model.h5')\n",
    "        "
   ]
  },
  {
   "cell_type": "markdown",
   "id": "ac91108f",
   "metadata": {},
   "source": [
    "### How do you predict using a trained Keras model?"
   ]
  },
  {
   "cell_type": "code",
   "execution_count": null,
   "id": "d6b19be6",
   "metadata": {},
   "outputs": [],
   "source": [
    "\n",
    "predictions = model.predict(X_new)\n",
    "        "
   ]
  },
  {
   "cell_type": "markdown",
   "id": "6b911a12",
   "metadata": {},
   "source": [
    "### What function is used to evaluate a Keras model?"
   ]
  },
  {
   "cell_type": "code",
   "execution_count": null,
   "id": "51bc7775",
   "metadata": {},
   "outputs": [],
   "source": [
    "\n",
    "loss, accuracy = model.evaluate(X_test, y_test)\n",
    "        "
   ]
  }
 ],
 "metadata": {
  "kernelspec": {
   "display_name": "Python 3 (ipykernel)",
   "language": "python",
   "name": "python3"
  },
  "language_info": {
   "codemirror_mode": {
    "name": "ipython",
    "version": 3
   },
   "file_extension": ".py",
   "mimetype": "text/x-python",
   "name": "python",
   "nbconvert_exporter": "python",
   "pygments_lexer": "ipython3",
   "version": "3.10.1"
  },
  "widgets": {
   "application/vnd.jupyter.widget-state+json": {
    "state": {},
    "version_major": 2,
    "version_minor": 0
   }
  }
 },
 "nbformat": 4,
 "nbformat_minor": 5
}
